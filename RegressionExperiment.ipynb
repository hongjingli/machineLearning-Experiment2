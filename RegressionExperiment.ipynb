{
 "cells": [
  {
   "cell_type": "code",
   "execution_count": 13,
   "metadata": {
    "collapsed": false
   },
   "outputs": [
    {
     "name": "stdout",
     "output_type": "stream",
     "text": [
      "0.7656777839199066\n"
     ]
    },
    {
     "data": {
      "text/plain": [
       "<matplotlib.text.Text at 0x1561795da20>"
      ]
     },
     "execution_count": 13,
     "metadata": {},
     "output_type": "execute_result"
    },
    {
     "data": {
      "image/png": "[encoded data removed]",
      "text/plain": [
       "<matplotlib.figure.Figure at 0x15617f3ecf8>"
      ]
     },
     "metadata": {},
     "output_type": "display_data"
    }
   ],
   "source": [
    "import numpy as np\n",
    "from sklearn.cross_validation import train_test_split\n",
    "from sklearn.datasets import load_svmlight_file\n",
    "from sklearn.externals.joblib import Memory\n",
    "import matplotlib.pyplot as plt\n",
    "import math\n",
    "import random\n",
    "\n",
    "data = load_svmlight_file(\"a9a.txt\")\n",
    "X_train, y_train = data[0], data[1]\n",
    "#print(X[0,0])\n",
    "X_train = X_train.dot(np.eye(123))\n",
    "#print(len(X))   32561\n",
    "b_tr = np.ones((32561,1))\n",
    "X_train = np.column_stack((X_train, b_tr))\n",
    "#print(X)\n",
    "#print(X.shape[1])\n",
    "y_train = (y_train+1)/2\n",
    "n_train = X_train.shape[0]\n",
    "\n",
    "test = load_svmlight_file(\"a9a_test.txt\")\n",
    "X_test, y_test = test[0], test[1]\n",
    "X_test = X_test.dot(np.eye(122))\n",
    "a = np.zeros((16281,1))\n",
    "X_test = np.column_stack((X_test, a))\n",
    "b_te = np.ones((16281, 1))\n",
    "X_test = np.column_stack((X_test, b_te))\n",
    "y_test = (y_test+1)/2\n",
    "n_test = X_test.shape[0]\n",
    "\n",
    "w = np.zeros((124, 1))\n",
    "g = np.zeros((124, 1))\n",
    "G = np.zeros((124, 1))\n",
    "v = np.zeros((124, 1))\n",
    "m = np.zeros((124, 1))\n",
    "transin = np.zeros((124, 1))\n",
    "tran = np.zeros((124, 1))\n",
    "L_test = np.zeros((1000, 1))\n",
    "lossHelp = np.zeros((n_test, 1))\n",
    "Y_test = np.zeros(n_test)\n",
    "h = np.zeros((n_test, 1))\n",
    "\n",
    "def sigmiod(x):\n",
    "    if (x>=7):\n",
    "        return 1\n",
    "    # e^x/(1+e^x)\n",
    "    if(x<=-7):\n",
    "        return 0.0000001\n",
    "    return 1.0/(1.0 + math.exp(-x))\n",
    "\n",
    "def lossFunc(h, y):\n",
    "    if(h <= 0):\n",
    "        return -100\n",
    "    if(h >= 1):\n",
    "        return -100\n",
    "    tmp = y*math.log(h)+(1-y)*math.log(1-h)\n",
    "    return tmp\n",
    "\n",
    "learningRate = 0.001\n",
    "e = 0.00000001\n",
    "a = 0\n",
    "\n",
    "for i in range(1000):\n",
    "    j = random.randint(0,32560)\n",
    "    #w = w - 0.9*v\n",
    "    tmp = (X_train[j,:].dot(w))[0]\n",
    "    output = sigmiod(tmp)\n",
    "    g = ((X_train[j,:])*(output - y_train[j])).reshape(124,1)\n",
    "    m = 0.9*m + 0.1*g\n",
    "    G = 0.999*G + 0.001*(g*g)\n",
    "    a = learningRate*(math.sqrt(1 - math.pow(0.999, i+1)))/(1-math.pow(0.9, i+1))\n",
    "    for l in range(124):\n",
    "        w[l][0] = w[l][0] - a*m[l][0]/(math.sqrt(G[l][0]+e))\n",
    "        \n",
    "    h = X_test.dot(w)\n",
    "    loss = 0\n",
    "    for k in range(n_test):\n",
    "        h[k] = sigmiod(h[k])\n",
    "        loss+=lossFunc(h[k][0], y_test[k])\n",
    "    L_test[i]= (-1)*loss/n_test\n",
    "    \n",
    "\n",
    "count = 0\n",
    "\n",
    "for k in range(n_test):\n",
    "    tmp = (X_test[k,:].dot(w))[0]\n",
    "    Y_test[k] = sigmiod(tmp)\n",
    "    if(Y_test[k]>=0.5):\n",
    "        Y_test[k] = 1\n",
    "    else:\n",
    "        Y_test[k] = 0\n",
    "    if(y_test[k]==Y_test[k]):\n",
    "        count = count+1\n",
    "        \n",
    "true = count/n_test\n",
    "print(true)\n",
    "x = np.arange(0,1000,1)\n",
    "%matplotlib inline\n",
    "plt.plot(x,L_test,'r',label='L_test')\n",
    "plt.legend(loc='upper right')\n",
    "plt.xlabel('iterator times (Adam)')\n",
    "plt.ylabel('Loss')\n"
   ]
  },
  {
   "cell_type": "code",
   "execution_count": 5,
   "metadata": {
    "collapsed": false
   },
   "outputs": [
    {
     "name": "stdout",
     "output_type": "stream",
     "text": [
      "-0.294808104744\n"
     ]
    }
   ],
   "source": [
    "print(w[1][0])"
   ]
  },
  {
   "cell_type": "code",
   "execution_count": 71,
   "metadata": {
    "collapsed": false
   },
   "outputs": [
    {
     "name": "stdout",
     "output_type": "stream",
     "text": [
      "9 \n",
      " 9\n"
     ]
    }
   ],
   "source": [
    "print(random.randint(1,10), \"\\n\", random.randint(1,10))"
   ]
  },
  {
   "cell_type": "code",
   "execution_count": 30,
   "metadata": {
    "collapsed": false
   },
   "outputs": [
    {
     "name": "stdout",
     "output_type": "stream",
     "text": [
      "[[ 1.  1.  1.  1.  1.  1.  1.  1.  1.  1.  1.  1.  1.  1.  1.]]\n"
     ]
    }
   ],
   "source": [
    "c = np.ones((15,1))\n",
    "print(c.T)"
   ]
  },
  {
   "cell_type": "code",
   "execution_count": null,
   "metadata": {
    "collapsed": true
   },
   "outputs": [],
   "source": []
  }
 ],
 "metadata": {
  "anaconda-cloud": {},
  "kernelspec": {
   "display_name": "Python [conda root]",
   "language": "python",
   "name": "conda-root-py"
  },
  "language_info": {
   "codemirror_mode": {
    "name": "ipython",
    "version": 3
   },
   "file_extension": ".py",
   "mimetype": "text/x-python",
   "name": "python",
   "nbconvert_exporter": "python",
   "pygments_lexer": "ipython3",
   "version": "3.5.2"
  }
 },
 "nbformat": 4,
 "nbformat_minor": 1
}
